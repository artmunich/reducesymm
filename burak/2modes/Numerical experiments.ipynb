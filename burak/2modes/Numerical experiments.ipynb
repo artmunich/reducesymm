{
 "cells": [
  {
   "cell_type": "code",
   "execution_count": 48,
   "metadata": {
    "collapsed": true
   },
   "outputs": [],
   "source": [
    "import numpy as np\n",
    "import twomode\n",
    "from scipy.integrate import odeint"
   ]
  },
  {
   "cell_type": "markdown",
   "metadata": {},
   "source": [
    "Generate data on the attractor\n",
    "================="
   ]
  },
  {
   "cell_type": "code",
   "execution_count": 49,
   "metadata": {
    "collapsed": true
   },
   "outputs": [],
   "source": [
    "x0 = np.random.randn(5)\n",
    "x0[0] = np.abs(x0[0])\n",
    "x0[1] = 0.0\n",
    "x0[4] = 0.0\n",
    "xphisol = twomode.intslice(x0, np.linspace(0, 500, 50001))[3000:, :]"
   ]
  },
  {
   "cell_type": "markdown",
   "metadata": {},
   "source": [
    "Numerical experiments\n",
    "===="
   ]
  },
  {
   "cell_type": "code",
   "execution_count": 54,
   "metadata": {
    "collapsed": true
   },
   "outputs": [],
   "source": [
    "NSim = 200\n",
    "tSim = 5000\n",
    "dt = 0.1\n",
    "tArray = np.linspace(0, tSim, np.floor(tSim / dt) + 1)"
   ]
  },
  {
   "cell_type": "code",
   "execution_count": 55,
   "metadata": {
    "collapsed": true
   },
   "outputs": [],
   "source": [
    "f=open('phiData.dat','ab')"
   ]
  },
  {
   "cell_type": "code",
   "execution_count": null,
   "metadata": {
    "collapsed": false
   },
   "outputs": [],
   "source": [
    "for k in range(NSim):\n",
    "    x0 = xphisol[np.random.random_integers(0, np.size(xphisol, 0)), :]\n",
    "    x0[4] = 0    \n",
    "    phi = twomode.intslice(x0, tArray)[:, 4]\n",
    "    np.savetxt(f, phi, newline=\" \")\n",
    "    f.write(\"\\n\")\n",
    "    # f.write(map(str, phi) + \"\\n\")"
   ]
  },
  {
   "cell_type": "code",
   "execution_count": null,
   "metadata": {
    "collapsed": true
   },
   "outputs": [],
   "source": [
    "f.close()"
   ]
  },
  {
   "cell_type": "code",
   "execution_count": null,
   "metadata": {
    "collapsed": true
   },
   "outputs": [],
   "source": []
  }
 ],
 "metadata": {
  "kernelspec": {
   "display_name": "Python 2",
   "language": "python",
   "name": "python2"
  },
  "language_info": {
   "codemirror_mode": {
    "name": "ipython",
    "version": 2
   },
   "file_extension": ".py",
   "mimetype": "text/x-python",
   "name": "python",
   "nbconvert_exporter": "python",
   "pygments_lexer": "ipython2",
   "version": "2.7.6"
  }
 },
 "nbformat": 4,
 "nbformat_minor": 0
}
